{
 "cells": [
  {
   "cell_type": "markdown",
   "metadata": {},
   "source": [
    "Here's a notebook without the verbose fluff of [Tutorial.ipynb](Tutorial.ipynb) (start there if you're unfamiliar with Preeminence), all ready for you to **focus on writing your winning Agent**. Oh, and here are the [API docs](https://douglasorr.github.io/Preeminence) - you might find them useful!\n",
    "\n",
    "**Don't forget to try different maps** - from simplest to most complex, there's `maps/{tiny3, tiny4, mini, quad, classic}.json`. The final performance will be assessed on _classic_, but there's no harm in using the smaller maps to get started!"
   ]
  },
  {
   "cell_type": "code",
   "execution_count": null,
   "metadata": {},
   "outputs": [],
   "source": [
    "%load_ext autoreload\n",
    "%autoreload 2\n",
    "import preem as P\n",
    "import random"
   ]
  },
  {
   "cell_type": "code",
   "execution_count": null,
   "metadata": {},
   "outputs": [],
   "source": [
    "class RandomAgent(P.Agent):\n",
    "    def place(self, state):\n",
    "        return random.choice(state.my_territories)\n",
    "\n",
    "    def reinforce(self, state, count):\n",
    "        return {random.choice(state.my_territories): count}\n",
    "\n",
    "    def redeem(self, state):\n",
    "        if 5 <= len(state.cards):\n",
    "            sets = list(P.get_matching_sets(state.cards))\n",
    "            return random.choice(sets)\n",
    "\n",
    "    def act(self, state, earned_card):\n",
    "        possible_attacks = [a for a in P.get_all_possible_attacks(state) if a.count >= 2]\n",
    "        if possible_attacks:\n",
    "            return random.choices(possible_attacks, weights=[a.count for a in possible_attacks])[0]\n",
    "        possible_moves = P.get_all_possible_moves(state)\n",
    "        if possible_moves:\n",
    "            return random.choices(possible_moves, weights=[a.count for a in possible_moves])[0]\n",
    "        return None"
   ]
  },
  {
   "cell_type": "code",
   "execution_count": null,
   "metadata": {
    "scrolled": true
   },
   "outputs": [],
   "source": [
    "random.seed(100)\n",
    "game = P.Game.start(P.Map.load('maps/mini.json'), [RandomAgent(), RandomAgent()])\n",
    "for event in game:\n",
    "    if event.state.player_index == 0:\n",
    "        print(event)\n",
    "print('-' * 80)\n",
    "print(game.result)\n",
    "game.world"
   ]
  },
  {
   "cell_type": "code",
   "execution_count": null,
   "metadata": {},
   "outputs": [],
   "source": [
    "P.Tournament.run(P.Map.load('maps/mini.json'), [RandomAgent(), RandomAgent()], rounds=100)"
   ]
  },
  {
   "cell_type": "code",
   "execution_count": null,
   "metadata": {},
   "outputs": [],
   "source": [
    "random.seed(100)\n",
    "P.Game.watch(P.Map.load('maps/mini.json'), [RandomAgent(), RandomAgent()], 'working.mp4')"
   ]
  }
 ],
 "metadata": {
  "kernelspec": {
   "display_name": "Python 3",
   "language": "python",
   "name": "python3"
  },
  "language_info": {
   "codemirror_mode": {
    "name": "ipython",
    "version": 3
   },
   "file_extension": ".py",
   "mimetype": "text/x-python",
   "name": "python",
   "nbconvert_exporter": "python",
   "pygments_lexer": "ipython3",
   "version": "3.6.8"
  }
 },
 "nbformat": 4,
 "nbformat_minor": 2
}
