{
 "cells": [
  {
   "cell_type": "markdown",
   "metadata": {
    "slideshow": {
     "slide_type": "slide"
    }
   },
   "source": [
    "# Preeminence\n",
    "\n",
    "Welcome to the world conquest game, played by proxy!\n",
    "\n",
    "_While we're waiting, start here: **https://aka.ms/preem**_\n",
    "\n",
    "![Classic Map](https://douglasorr.github.io/Preeminence/img/eg_classic.svg)"
   ]
  },
  {
   "cell_type": "markdown",
   "metadata": {
    "slideshow": {
     "slide_type": "subslide"
    }
   },
   "source": [
    "## Format\n",
    "\n",
    "Two ways to \"enjoy\" this - as a workshop / as a challenge...\n",
    "\n",
    " - **Tue 1100-1300** - intro workshop\n",
    "   - 30 mins - intro\n",
    "   - 90 mins - tutorial / development\n",
    " - **Thurs 1700** - challenge entry submission deadline\n",
    " - **Fri ~1700** - winners announced"
   ]
  },
  {
   "cell_type": "markdown",
   "metadata": {
    "slideshow": {
     "slide_type": "subslide"
    }
   },
   "source": [
    "### Workshop format\n",
    "\n",
    " - intro presentation\n",
    "   - rules of the game\n",
    "   - creating & debugging an agent\n",
    "   - evaluating & scaling up\n",
    "   - strategy tips\n",
    " - tutorial / open development"
   ]
  },
  {
   "cell_type": "markdown",
   "metadata": {
    "slideshow": {
     "slide_type": "slide"
    }
   },
   "source": [
    "## 1. Today's Terrific Task To Try Thy Tactical Tenacity...\n",
    "\n",
    "Write an _agent_ to play a territory conquest game in a graph (called a _map_). The goal is to go from this:\n",
    "\n",
    "![game start](img/mini/start.svg)"
   ]
  },
  {
   "cell_type": "markdown",
   "metadata": {
    "slideshow": {
     "slide_type": "subslide"
    }
   },
   "source": [
    "...to this (if you're the purple agent, that is):\n",
    "\n",
    "![game end](img/mini/end.svg)"
   ]
  },
  {
   "cell_type": "markdown",
   "metadata": {
    "slideshow": {
     "slide_type": "subslide"
    }
   },
   "source": [
    "Let's step through, _action_ by _action_...\n",
    "\n",
    "![frame_0](img/mini/step_0.svg)"
   ]
  },
  {
   "cell_type": "markdown",
   "metadata": {
    "slideshow": {
     "slide_type": "subslide"
    }
   },
   "source": [
    "Starting territories have already been pre-assigned, and we're in the initial _placement_ phase.\n",
    "\n",
    "![frame_0](img/mini/step_0.svg)"
   ]
  },
  {
   "cell_type": "markdown",
   "metadata": {
    "slideshow": {
     "slide_type": "subslide"
    }
   },
   "source": [
    "Each agent takes turns placing one army on one owned territory.\n",
    "\n",
    "![frame_1](img/mini/step_1.svg)"
   ]
  },
  {
   "cell_type": "markdown",
   "metadata": {
    "slideshow": {
     "slide_type": "subslide"
    }
   },
   "source": [
    "Each agent takes turns placing one army on one owned territory.\n",
    "\n",
    "![frame_2](img/mini/step_2.svg)"
   ]
  },
  {
   "cell_type": "markdown",
   "metadata": {
    "slideshow": {
     "slide_type": "subslide"
    }
   },
   "source": [
    "Each agent takes turns placing one army on one owned territory.\n",
    "\n",
    "![frame_3](img/mini/step_3.svg)"
   ]
  },
  {
   "cell_type": "markdown",
   "metadata": {
    "slideshow": {
     "slide_type": "subslide"
    }
   },
   "source": [
    "(Fast forward) - all agents have now placed all of their initial armies.\n",
    "\n",
    "![frame_8](img/mini/step_8.svg)"
   ]
  },
  {
   "cell_type": "markdown",
   "metadata": {
    "slideshow": {
     "slide_type": "subslide"
    }
   },
   "source": [
    "The purple agent starts their _turn_ by _reinforcing_ an owned territory.\n",
    "\n",
    "![frame_9](img/mini/step_9.svg)"
   ]
  },
  {
   "cell_type": "markdown",
   "metadata": {
    "slideshow": {
     "slide_type": "subslide"
    }
   },
   "source": [
    "Then _attacking_ an adjacent enemy territory.\n",
    "\n",
    "![frame_10](img/mini/step_10.svg)"
   ]
  },
  {
   "cell_type": "markdown",
   "metadata": {
    "slideshow": {
     "slide_type": "subslide"
    }
   },
   "source": [
    "And another.\n",
    "\n",
    "![frame_11](img/mini/step_11.svg)"
   ]
  },
  {
   "cell_type": "markdown",
   "metadata": {
    "slideshow": {
     "slide_type": "subslide"
    }
   },
   "source": [
    "And another (until its bloodlust is sated)!\n",
    "\n",
    "![frame_12](img/mini/step_12.svg)"
   ]
  },
  {
   "cell_type": "markdown",
   "metadata": {
    "slideshow": {
     "slide_type": "subslide"
    }
   },
   "source": [
    "(Fast forward) - purple finishes their turn with a _move_ (owned => owned).\n",
    "\n",
    "![frame_15](img/mini/step_15.svg)"
   ]
  },
  {
   "cell_type": "markdown",
   "metadata": {
    "slideshow": {
     "slide_type": "subslide"
    }
   },
   "source": [
    "Green reinforces.\n",
    "\n",
    "![frame_16](img/mini/step_16.svg)"
   ]
  },
  {
   "cell_type": "markdown",
   "metadata": {
    "slideshow": {
     "slide_type": "subslide"
    }
   },
   "source": [
    "Green attacks.\n",
    "\n",
    "![frame_17](img/mini/step_17.svg)"
   ]
  },
  {
   "cell_type": "markdown",
   "metadata": {
    "slideshow": {
     "slide_type": "subslide"
    }
   },
   "source": [
    "(Fast forward) - purple reinforces with bonus armies for controlling a continent at the beginning of its turn.\n",
    "\n",
    "![frame_24](img/mini/step_24.svg)"
   ]
  },
  {
   "cell_type": "markdown",
   "metadata": {
    "slideshow": {
     "slide_type": "subslide"
    }
   },
   "source": [
    "(Fast forward) - purple eventually wins by conquering the whole map.\n",
    "\n",
    "![frame_26](img/mini/step_26.svg)\n",
    "![end](img/mini/end.svg)"
   ]
  },
  {
   "cell_type": "code",
   "execution_count": null,
   "metadata": {
    "slideshow": {
     "slide_type": "skip"
    }
   },
   "outputs": [],
   "source": [
    "import IPython.display"
   ]
  },
  {
   "cell_type": "code",
   "execution_count": null,
   "metadata": {
    "slideshow": {
     "slide_type": "subslide"
    }
   },
   "outputs": [],
   "source": [
    "# Let's watch the whole game\n",
    "IPython.display.Video('https://douglasorr.github.io/Preeminence/img/mini/game.mp4')"
   ]
  },
  {
   "cell_type": "markdown",
   "metadata": {
    "slideshow": {
     "slide_type": "slide"
    }
   },
   "source": [
    "## 2. Advice Arising About Agent Accreditation\n",
    "\n",
    "Soon, the **tutorial** will guide you through how to create & debug an Agent, in (possibly painful) detail. But here's a quick overview...\n",
    "\n",
    "```python\n",
    "import preem as P\n",
    "\n",
    "class MyAgent(P.Agent):\n",
    "    def place(self, state):\n",
    "        pass  # TODO\n",
    "    def redeem(self, state):\n",
    "        pass  # TODO\n",
    "    def reinforce(self, state, count):\n",
    "        pass  # TODO\n",
    "    def act(self, state, earned_card):\n",
    "        pass  # TODO\n",
    "```"
   ]
  },
  {
   "cell_type": "code",
   "execution_count": null,
   "metadata": {
    "slideshow": {
     "slide_type": "skip"
    }
   },
   "outputs": [],
   "source": [
    "import preem as P\n",
    "import agents.random_agent\n",
    "import random\n",
    "RandomAgent = agents.random_agent.Agent\n",
    "random.seed(10)"
   ]
  },
  {
   "cell_type": "code",
   "execution_count": null,
   "metadata": {
    "slideshow": {
     "slide_type": "fragment"
    }
   },
   "outputs": [],
   "source": [
    "P.Game.play(P.Map.load('maps/mini.json'), [RandomAgent()] * 3)"
   ]
  },
  {
   "cell_type": "markdown",
   "metadata": {
    "slideshow": {
     "slide_type": "subslide"
    }
   },
   "source": [
    "Those 4 methods are called in this order:\n",
    "\n",
    "![agent flow](img/agent_flow.svg)\n",
    "\n",
    " - Game assigns starting territories randomly to each player,\n",
    "   - then calls `start_game` (an optional override) to allow the Agent to set itself up.\n",
    " - Game calls `place` repeatedly, for each player in turn, to place a single army on an owned territory,\n",
    "   until enough armies have been placed.\n",
    " - For each turn, game:\n",
    "   - calls `redeem` to decide if any cards should be declared for bonus armies,\n",
    "   - calls `reinforce` to place multiple armies on one or more owned territories,\n",
    "   - calls `act` repeatedly, until it returns a turn-ending action (such as a move)."
   ]
  },
  {
   "cell_type": "markdown",
   "metadata": {
    "slideshow": {
     "slide_type": "subslide"
    }
   },
   "source": [
    "Key abstractions:\n",
    "\n",
    " - `Agent` - your code\n",
    " - `PlayerState` (often just `state`) - player specific & private data\n",
    "   - contains `World` - visible game data\n",
    "     - contains `Map` - fixed layout\n",
    " - `Event` - logs an agent's method call response & `state`"
   ]
  },
  {
   "cell_type": "code",
   "execution_count": null,
   "metadata": {
    "slideshow": {
     "slide_type": "fragment"
    }
   },
   "outputs": [],
   "source": [
    "random.seed(42)\n",
    "game = P.Game.start(P.Map.load('maps/mini.json'), [RandomAgent()] * 3)\n",
    "\n",
    "event = game.next_event(method='act', player_index=0)\n",
    "print(event.state.map)\n",
    "print('Owners: ', event.state.world.owners)\n",
    "print('Armies: ', event.state.world.armies)\n",
    "print('Action: ', event.result)"
   ]
  },
  {
   "cell_type": "markdown",
   "metadata": {
    "slideshow": {
     "slide_type": "slide"
    }
   },
   "source": [
    "## 3. Previewing Possibly Predictive Performance\n",
    "\n",
    "We've seen `Game.play`, `Game.start` (and actually `Game.watch`), which are **single game** & great for **developing & debugging**.\n",
    "\n",
    "We've also been on a small map `mini`, quick & easy to debug, but not a great evaluation.\n",
    "\n",
    "But to really **evaluate** progress, you'll want to run a `Tournament` (multiple games, in parallel) on `classic`..."
   ]
  },
  {
   "cell_type": "code",
   "execution_count": null,
   "metadata": {
    "slideshow": {
     "slide_type": "fragment"
    }
   },
   "outputs": [],
   "source": [
    "P.Tournament.run(P.Map.load('maps/classic.json'), [RandomAgent()] * 3, rounds=100)"
   ]
  },
  {
   "cell_type": "code",
   "execution_count": null,
   "metadata": {
    "slideshow": {
     "slide_type": "skip"
    }
   },
   "outputs": [],
   "source": [
    "MAPS_GRID = IPython.display.HTML(\"\"\"\n",
    "<table>\n",
    "  <tr>\n",
    "    <td>tiny3</td>\n",
    "    <td><img src=\"img/maps/tiny3.svg\" width=\"200px\"/></td>\n",
    "    <td>mini</td>\n",
    "    <td><img src=\"img/maps/mini.svg\" width=\"200px\"/></td>\n",
    "  </tr>\n",
    "  <tr>\n",
    "    <td>tiny4</td>\n",
    "    <td><img src=\"img/maps/tiny4.svg\" width=\"200px\"/></td>\n",
    "    <td>quad</td>\n",
    "    <td><img src=\"img/maps/quad.svg\" width=\"200px\"/></td>\n",
    "  </tr>\n",
    "  <tr>\n",
    "    <td>classic</td>\n",
    "    <td align=\"center\" colspan=\"3\"><img src=\"img/maps/classic.svg\" width=\"400px\"/></td>\n",
    "  </tr>\n",
    "</table>\n",
    "\"\"\")"
   ]
  },
  {
   "cell_type": "code",
   "execution_count": null,
   "metadata": {
    "slideshow": {
     "slide_type": "subslide"
    }
   },
   "outputs": [],
   "source": [
    "MAPS_GRID"
   ]
  },
  {
   "cell_type": "markdown",
   "metadata": {
    "slideshow": {
     "slide_type": "slide"
    }
   },
   "source": [
    "# 4. Savouring Some Seemingly Solid Strategies\n",
    "\n",
    "Some vague ideas to get you started..."
   ]
  },
  {
   "cell_type": "markdown",
   "metadata": {
    "slideshow": {
     "slide_type": "subslide"
    }
   },
   "source": [
    "### The top-level approach\n",
    "\n",
    "**Strategic agent** - encodes the rules & strategies you would use.\n",
    "\n",
    "**Machine learning agent** - optimized/tuned to win, from lots of up-front games.\n",
    "\n",
    "**Adaptive agent** - adapts its behaviour \"online\" based on the game or games played."
   ]
  },
  {
   "cell_type": "markdown",
   "metadata": {
    "slideshow": {
     "slide_type": "subslide"
    }
   },
   "source": [
    "### Offensive vs defensive\n",
    "\n",
    "_Note that for a given attack, dice favour the attacker (assuming 3 vs 2), but only slightly._\n",
    "\n",
    "**Offensive agent** - acquires territory quickly, leaving some easy pickings.\n",
    "\n",
    "**Defensive agent** - aims to expand slowly and steadily, defending what has been won."
   ]
  },
  {
   "cell_type": "markdown",
   "metadata": {
    "slideshow": {
     "slide_type": "subslide"
    }
   },
   "source": [
    "### Landlocking\n",
    "\n",
    "Landlocked armies are surrounded by your own territories, so are unable to attack.\n",
    "\n",
    "They can only move at one territory per turn, and can't immediately help defend or attack, so are less efficient."
   ]
  },
  {
   "cell_type": "markdown",
   "metadata": {
    "slideshow": {
     "slide_type": "fragment"
    }
   },
   "source": [
    "### No mercy\n",
    "\n",
    "Knocking out other players is very valuable, as you get to claim their cards.\n",
    "\n",
    "Do I have enough armies to go for the jugular? What is the best path to take?"
   ]
  },
  {
   "cell_type": "markdown",
   "metadata": {
    "slideshow": {
     "slide_type": "fragment"
    }
   },
   "source": [
    "### Continental focus\n",
    "\n",
    "Continents can, when held, be a great steady source of armies.\n",
    "\n",
    "Some are easy to hold - Australia, South America - will you opt in to fierce early game action?"
   ]
  },
  {
   "cell_type": "markdown",
   "metadata": {
    "slideshow": {
     "slide_type": "slide"
    }
   },
   "source": [
    "## 5. Go! https://aka.ms/preem"
   ]
  },
  {
   "cell_type": "code",
   "execution_count": null,
   "metadata": {
    "slideshow": {
     "slide_type": "fragment"
    }
   },
   "outputs": [],
   "source": [
    "IPython.display.Video('https://douglasorr.github.io/Preeminence/img/eg_classic.mp4')"
   ]
  }
 ],
 "metadata": {
  "celltoolbar": "Slideshow",
  "kernelspec": {
   "display_name": "Python 3",
   "language": "python",
   "name": "python3"
  },
  "language_info": {
   "codemirror_mode": {
    "name": "ipython",
    "version": 3
   },
   "file_extension": ".py",
   "mimetype": "text/x-python",
   "name": "python",
   "nbconvert_exporter": "python",
   "pygments_lexer": "ipython3",
   "version": "3.6.7"
  }
 },
 "nbformat": 4,
 "nbformat_minor": 2
}
