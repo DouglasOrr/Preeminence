{
 "cells": [
  {
   "cell_type": "markdown",
   "metadata": {},
   "source": [
    "# Pre-eminence tutorial\n",
    "\n",
    "In this tutorial, you'll learn how to define an agent to play the game Pre-eminence, run games so you can track performance, and step through those games so you can debug & understand what your agent is doing at each point."
   ]
  },
  {
   "cell_type": "markdown",
   "metadata": {},
   "source": [
    "## 1. Creating an agent"
   ]
  },
  {
   "cell_type": "code",
   "execution_count": null,
   "metadata": {},
   "outputs": [],
   "source": [
    "%load_ext autoreload\n",
    "%autoreload 2\n",
    "import preem as P\n",
    "import random"
   ]
  },
  {
   "cell_type": "code",
   "execution_count": null,
   "metadata": {},
   "outputs": [],
   "source": [
    "class RandomAgent(P.Agent):\n",
    "    def place(self, state):\n",
    "        return random.choice(state.my_territories)\n",
    "\n",
    "    def reinforce(self, state, count):\n",
    "        return {random.choice(state.my_territories): count}\n",
    "\n",
    "    def redeem(self, state):\n",
    "        if 5 <= len(state.cards):\n",
    "            sets = list(P.get_matching_sets(state.cards))\n",
    "            return random.choice(sets)\n",
    "\n",
    "    def act(self, state, earned_card):\n",
    "        possible_attacks = [a for a in P.get_all_possible_attacks(state) if a.count >= 2]\n",
    "        if possible_attacks:\n",
    "            return random.choices(possible_attacks, weights=[a.count for a in possible_attacks])[0]\n",
    "        possible_moves = P.get_all_possible_moves(state)\n",
    "        if possible_moves:\n",
    "            return random.choices(possible_moves, weights=[a.count for a in possible_moves])[0]\n",
    "        return None"
   ]
  },
  {
   "cell_type": "code",
   "execution_count": null,
   "metadata": {},
   "outputs": [],
   "source": [
    "random.seed(10)\n",
    "P.Game.play(P.Map.load_file('maps/mini.json'), [RandomAgent(), RandomAgent()])"
   ]
  },
  {
   "cell_type": "code",
   "execution_count": null,
   "metadata": {},
   "outputs": [],
   "source": [
    "random.seed(10)\n",
    "for event in P.Game.start(P.Map.load_file('maps/mini.json'), [RandomAgent(), RandomAgent()]):\n",
    "    print(id(event.agent), event.method, event.args, '->', event.result)"
   ]
  },
  {
   "cell_type": "markdown",
   "metadata": {},
   "source": [
    "## 2. Looking at the world"
   ]
  },
  {
   "cell_type": "code",
   "execution_count": null,
   "metadata": {},
   "outputs": [],
   "source": [
    "random.seed(10)\n",
    "game = P.Game.start(P.Map.load_file('maps/mini.json'), [RandomAgent(), RandomAgent()])\n",
    "print(game.world)\n",
    "game.map  # same as game.world.map"
   ]
  },
  {
   "cell_type": "code",
   "execution_count": null,
   "metadata": {},
   "outputs": [],
   "source": [
    "event = next(game)\n",
    "print(event)\n",
    "print(event.state)\n",
    "print(event.state.world)\n",
    "print('territory owners', event.state.world.owners)\n",
    "event"
   ]
  },
  {
   "cell_type": "code",
   "execution_count": null,
   "metadata": {},
   "outputs": [],
   "source": [
    "while event.method != 'act':\n",
    "    event = next(game)\n",
    "print(event.result)\n",
    "event"
   ]
  },
  {
   "cell_type": "markdown",
   "metadata": {},
   "source": [
    "## 3. Running a mini-tournament"
   ]
  },
  {
   "cell_type": "code",
   "execution_count": null,
   "metadata": {},
   "outputs": [],
   "source": [
    "# TODO"
   ]
  }
 ],
 "metadata": {
  "kernelspec": {
   "display_name": "Python 3",
   "language": "python",
   "name": "python3"
  },
  "language_info": {
   "codemirror_mode": {
    "name": "ipython",
    "version": 3
   },
   "file_extension": ".py",
   "mimetype": "text/x-python",
   "name": "python",
   "nbconvert_exporter": "python",
   "pygments_lexer": "ipython3",
   "version": "3.6.8"
  }
 },
 "nbformat": 4,
 "nbformat_minor": 2
}
